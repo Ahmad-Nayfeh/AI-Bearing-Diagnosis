{
 "cells": [
  {
   "cell_type": "markdown",
   "metadata": {},
   "source": [
    "# **Notebook 1: Data Understanding & Exploratory Data Analysis (EDA)**\n",
    "\n",
    "## **Objective**\n",
    "\n",
    "The goal of this notebook is to perform an initial exploration of the Case Western Reserve University (CWRU) Bearing Dataset. We will load the data, understand its structure, and visualize the vibration signals for different fault conditions. This foundational analysis is crucial for guiding our subsequent preprocessing and modeling decisions.\n",
    "\n",
    "### **Key Activities:**\n",
    "- **Load Data:** Import vibration signal data from the `.mat` files.\n",
    "- **Inspect Structure:** Examine the shape, data types, and key components of the raw signals.\n",
    "- **Visualize Signals:** Plot the time-domain waveforms for each bearing condition (Normal, Inner Race Fault, Outer Race Fault, Ball Fault).\n",
    "- **Analyze Frequency Domain:** Use the Fast Fourier Transform (FFT) to visualize the frequency content of the signals and identify characteristic fault frequencies."
   ]
  },
  {
   "cell_type": "code",
   "execution_count": 4,
   "metadata": {},
   "outputs": [
    {
     "ename": "ImportError",
     "evalue": "cannot import name 'load_mat_file' from 'data_utils' (D:\\Coding\\GitHub\\AI-Bearing-Diagnosis\\notebooks\\../src\\data_utils.py)",
     "output_type": "error",
     "traceback": [
      "\u001b[31m---------------------------------------------------------------------------\u001b[39m",
      "\u001b[31mImportError\u001b[39m                               Traceback (most recent call last)",
      "\u001b[36mCell\u001b[39m\u001b[36m \u001b[39m\u001b[32mIn[4]\u001b[39m\u001b[32m, line 11\u001b[39m\n\u001b[32m      9\u001b[39m \u001b[38;5;28;01mimport\u001b[39;00m\u001b[38;5;250m \u001b[39m\u001b[34;01msys\u001b[39;00m\n\u001b[32m     10\u001b[39m sys.path.append(\u001b[33m'\u001b[39m\u001b[33m../src\u001b[39m\u001b[33m'\u001b[39m)\n\u001b[32m---> \u001b[39m\u001b[32m11\u001b[39m \u001b[38;5;28;01mfrom\u001b[39;00m\u001b[38;5;250m \u001b[39m\u001b[34;01mdata_utils\u001b[39;00m\u001b[38;5;250m \u001b[39m\u001b[38;5;28;01mimport\u001b[39;00m load_mat_file\n\u001b[32m     13\u001b[39m sns.set_style(\u001b[33m'\u001b[39m\u001b[33mwhitegrid\u001b[39m\u001b[33m'\u001b[39m)\n\u001b[32m     14\u001b[39m plt.rcParams[\u001b[33m'\u001b[39m\u001b[33mfigure.figsize\u001b[39m\u001b[33m'\u001b[39m] = (\u001b[32m15\u001b[39m, \u001b[32m7\u001b[39m)\n",
      "\u001b[31mImportError\u001b[39m: cannot import name 'load_mat_file' from 'data_utils' (D:\\Coding\\GitHub\\AI-Bearing-Diagnosis\\notebooks\\../src\\data_utils.py)"
     ]
    }
   ],
   "source": [
    "import numpy as np\n",
    "import pandas as pd\n",
    "import matplotlib.pyplot as plt\n",
    "import seaborn as sns\n",
    "import os\n",
    "from scipy.fft import fft\n",
    "\n",
    "# Import custom utility functions from the src directory\n",
    "import sys\n",
    "sys.path.append('../src')\n",
    "from data_utils import load_mat_file\n",
    "\n",
    "sns.set_style('whitegrid')\n",
    "plt.rcParams['figure.figsize'] = (15, 7)\n",
    "plt.rcParams['font.size'] = 12"
   ]
  },
  {
   "cell_type": "markdown",
   "metadata": {},
   "source": [
    "## **1. Data Loading**\n",
    "\n",
    "We begin by loading the raw vibration signal data for different fault conditions. The dataset is organized by motor load (0, 1, and 2 HP). Our project roadmap specifies using 0 and 1 HP for training and 2 HP for testing. \n",
    "\n",
    "Here, we'll load one representative file for each of the four conditions (Normal, BF, IRF, ORF) under a 1 HP load to perform our initial EDA."
   ]
  },
  {
   "cell_type": "code",
   "execution_count": null,
   "metadata": {},
   "outputs": [],
   "source": [
    "SAMPLING_RATE = 12000 # 12k samples per second for 1HP and 0HP loads\n",
    "\n",
    "# Define paths to representative data files\n",
    "normal_path = '../data/raw/1_HP/Normal.mat'\n",
    "bf_path = '../data/raw/1_HP/B007_1.mat' # Ball Fault 0.007 inches\n",
    "irf_path = '../data/raw/1_HP/IR007_1.mat' # Inner Race Fault 0.007 inches\n",
    "orf_path = '../data/raw/1_HP/OR007@6_1.mat' # Outer Race Fault 0.007 inches\n",
    "\n",
    "# Load the signals using our utility function\n",
    "signal_normal = load_mat_file(normal_path)\n",
    "signal_bf = load_mat_file(bf_path)\n",
    "signal_irf = load_mat_file(irf_path)\n",
    "signal_orf = load_mat_file(orf_path)\n",
    "\n",
    "# Store signals in a dictionary for easy access\n",
    "signals = {\n",
    "    'Normal': signal_normal,\n",
    "    'Ball Fault': signal_bf,\n",
    "    'Inner Race Fault': signal_irf,\n",
    "    'Outer Race Fault': signal_orf\n",
    "}\n",
    "\n",
    "print(f\"Loaded 'Normal' signal with shape: {signal_normal.shape}\")\n",
    "print(f\"Loaded 'Ball Fault' signal with shape: {signal_bf.shape}\")\n",
    "print(f\"Loaded 'Inner Race Fault' signal with shape: {signal_irf.shape}\")\n",
    "print(f\"Loaded 'Outer Race Fault' signal with shape: {signal_orf.shape}\")"
   ]
  },
  {
   "cell_type": "markdown",
   "metadata": {},
   "source": [
    "## **2. Time-Domain Signal Visualization**\n",
    "\n",
    "Visualizing the raw signals in the time domain is the first step to understanding their characteristics. We expect to see different patterns, amplitudes, and periodicities for healthy versus faulty bearings. Faulty bearings often introduce periodic impacts or vibrations that can be seen in the waveform."
   ]
  },
  {
   "cell_type": "code",
   "execution_count": null,
   "metadata": {},
   "outputs": [],
   "source": [
    "# === Code Refinement ===\n",
    "# The original notebook had repetitive plotting code.\n",
    "# This has been consolidated into a single, reusable function for clarity and efficiency.\n",
    "def plot_signals(signals_dict, points_to_plot=2048):\n",
    "    \"\"\"Plots the first N points of signals from a dictionary.\"\"\"\n",
    "    num_signals = len(signals_dict)\n",
    "    fig, axes = plt.subplots(num_signals, 1, figsize=(18, 4 * num_signals), sharex=True)\n",
    "    fig.suptitle('Time-Domain Vibration Signals for Different Bearing Conditions', fontsize=18, y=0.95)\n",
    "    \n",
    "    for i, (label, signal) in enumerate(signals_dict.items()):\n",
    "        ax = axes[i]\n",
    "        ax.plot(signal[:points_to_plot], label=label, lw=1)\n",
    "        ax.set_ylabel('Amplitude')\n",
    "        ax.set_title(f'Condition: {label}')\n",
    "        ax.legend(loc='upper right')\n",
    "        ax.grid(True, which='both', linestyle='--', linewidth=0.5)\n",
    "        \n",
    "    axes[-1].set_xlabel('Time (samples)')\n",
    "    plt.tight_layout(rect=[0, 0, 1, 0.93])\n",
    "    \n",
    "    # Ensure the results directory and its subdirectory exist\n",
    "    output_dir = '../results/figures/'\n",
    "    if not os.path.exists(output_dir):\n",
    "        os.makedirs(output_dir)\n",
    "        \n",
    "    # Save the figure to the correct directory\n",
    "    plt.savefig(os.path.join(output_dir, 'eda_time_domain_signals.png'))\n",
    "    plt.show()\n",
    "\n",
    "# Plot the loaded signals\n",
    "plot_signals(signals)"
   ]
  },
  {
   "cell_type": "markdown",
   "metadata": {},
   "source": [
    "### **Time-Domain Observations:**\n",
    "\n",
    "- **Normal Signal:** The normal signal exhibits a relatively consistent, random pattern with lower amplitude variations compared to the faulty signals.\n",
    "- **Faulty Signals (BF, IRF, ORF):** The signals for all three fault types show higher amplitudes and more distinct, periodic spikes or bursts of energy. These are the tell-tale signs of impacts caused by the rolling elements hitting the fault on the race or the ball itself. Distinguishing between them visually in the time domain can be difficult, which is why frequency-domain analysis is essential."
   ]
  },
  {
   "cell_type": "markdown",
   "metadata": {},
   "source": [
    "## **3. Frequency-Domain Analysis using FFT**\n",
    "\n",
    "The Fast Fourier Transform (FFT) is a powerful tool that decomposes a signal into its constituent frequencies. For bearing fault diagnosis, specific fault types generate harmonics at predictable frequencies related to the geometry of the bearing and the motor's rotational speed. Plotting the frequency spectrum can make these patterns much clearer than in the time domain."
   ]
  },
  {
   "cell_type": "code",
   "execution_count": null,
   "metadata": {},
   "outputs": [],
   "source": [
    "def plot_fft(signals_dict, sampling_rate):\n",
    "    \"\"\"Calculates and plots the FFT of signals from a dictionary.\"\"\"\n",
    "    num_signals = len(signals_dict)\n",
    "    fig, axes = plt.subplots(num_signals, 1, figsize=(18, 4 * num_signals), sharex=True)\n",
    "    fig.suptitle('Frequency-Domain (FFT) of Vibration Signals', fontsize=18, y=0.95)\n",
    "\n",
    "    for i, (label, signal) in enumerate(signals_dict.items()):\n",
    "        ax = axes[i]\n",
    "        \n",
    "        # Perform FFT\n",
    "        N = len(signal)\n",
    "        yf = fft(signal)\n",
    "        xf = np.linspace(0.0, 1.0/(2.0/sampling_rate), N//2)\n",
    "        \n",
    "        # Plot the single-sided amplitude spectrum\n",
    "        ax.plot(xf, 2.0/N * np.abs(yf[0:N//2]), lw=1)\n",
    "        ax.set_ylabel('Amplitude')\n",
    "        ax.set_title(f'Condition: {label}')\n",
    "        ax.grid(True, which='both', linestyle='--', linewidth=0.5)\n",
    "        ax.set_xlim(0, sampling_rate / 4) # Limit x-axis to a reasonable frequency range\n",
    "\n",
    "    axes[-1].set_xlabel('Frequency (Hz)')\n",
    "    plt.tight_layout(rect=[0, 0, 1, 0.93])\n",
    "    \n",
    "    # Save the figure to the correct directory\n",
    "    plt.savefig('../results/figures/eda_frequency_domain_signals.png')\n",
    "    plt.show()\n",
    "\n",
    "# Plot the FFTs\n",
    "plot_fft(signals, SAMPLING_RATE)"
   ]
  },
  {
   "cell_type": "markdown",
   "metadata": {},
   "source": [
    "### **Frequency-Domain Observations:**\n",
    "\n",
    "- **Distinct Frequencies:** The FFT plots clearly show dominant frequency peaks for each fault condition that are not present in the normal signal's spectrum. \n",
    "- **Harmonics:** The faulty signals exhibit a series of harmonic frequencies (peaks at integer multiples of a fundamental frequency). These harmonics are characteristic signatures of bearing faults.\n",
    "- **Diagnostic Potential:** The clear separation of patterns in the frequency domain confirms that frequency-based features will be highly effective for classification. This validates our plan to use techniques like FFT for feature engineering and spectrograms for deep learning models.\n",
    "\n",
    "## **Conclusion of EDA**\n",
    "\n",
    "This initial exploratory analysis confirms that the CWRU dataset contains distinct, identifiable patterns for each fault class, particularly in the frequency domain. The visual evidence strongly suggests that both classical machine learning with handcrafted features and deep learning models that can learn features automatically are viable approaches.\n",
    "\n",
    "With this understanding, we can now proceed to the next stage: **systematic data preprocessing, feature engineering, and augmentation.**"
   ]
  }
 ],
 "metadata": {
  "kernelspec": {
   "display_name": "Python 3 (ipykernel)",
   "language": "python",
   "name": "python3"
  },
  "language_info": {
   "codemirror_mode": {
    "name": "ipython",
    "version": 3
   },
   "file_extension": ".py",
   "mimetype": "text/x-python",
   "name": "python",
   "nbconvert_exporter": "python",
   "pygments_lexer": "ipython3",
   "version": "3.11.0"
  }
 },
 "nbformat": 4,
 "nbformat_minor": 4
}
